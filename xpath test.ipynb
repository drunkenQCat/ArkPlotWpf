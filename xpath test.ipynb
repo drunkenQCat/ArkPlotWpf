{
 "cells": [
  {
   "cell_type": "code",
   "execution_count": 1,
   "metadata": {
    "dotnet_interactive": {
     "language": "csharp"
    },
    "polyglot_notebook": {
     "kernelName": "csharp"
    }
   },
   "outputs": [
    {
     "data": {
      "text/html": [
       "<div><div></div><div></div><div><strong>Installed Packages</strong><ul><li><span>HtmlAgilityPack, 1.11.50</span></li><li><span>Newtonsoft.Json, 13.0.3</span></li></ul></div></div>"
      ]
     },
     "metadata": {},
     "output_type": "display_data"
    }
   ],
   "source": [
    "#r \"nuget: HtmlAgilityPack\"\n",
    "#r \"nuget: Newtonsoft.Json\""
   ]
  },
  {
   "cell_type": "code",
   "execution_count": 22,
   "metadata": {
    "dotnet_interactive": {
     "language": "csharp"
    },
    "polyglot_notebook": {
     "kernelName": "csharp"
    }
   },
   "outputs": [],
   "source": [
    "using HtmlAgilityPack;\n",
    "using System.Net.Http;\n",
    "using Newtonsoft.Json.Linq;\n",
    "using System;\n",
    "using System.Collections.Generic;\n",
    "\n"
   ]
  },
  {
   "cell_type": "code",
   "execution_count": 24,
   "metadata": {
    "dotnet_interactive": {
     "language": "csharp"
    },
    "polyglot_notebook": {
     "kernelName": "csharp"
    }
   },
   "outputs": [
    {
     "data": {
      "text/html": [
       "<div class=\"dni-plaintext\"><pre>[ level_act14side_01_beg.txt, level_act14side_01_end.txt, level_act14side_02_beg.txt, level_act14side_02_end.txt, level_act14side_03_beg.txt, level_act14side_03_end.txt, level_act14side_04_beg.txt, level_act14side_04_end.txt, level_act14side_05_beg.txt, level_act14side_05_end.txt, level_act14side_06_beg.txt, level_act14side_06_end.txt, level_act14side_07_beg.txt, level_act14side_07_end.txt, level_act14side_08_beg.txt, level_act14side_08_end.txt, level_act14side_st01.txt, level_act14side_st02.txt, level_act14side_st03.txt, level_act14side_st04.txt ]</pre></div><style>\r\n",
       ".dni-code-hint {\r\n",
       "    font-style: italic;\r\n",
       "    overflow: hidden;\r\n",
       "    white-space: nowrap;\r\n",
       "}\r\n",
       ".dni-treeview {\r\n",
       "    white-space: nowrap;\r\n",
       "}\r\n",
       ".dni-treeview td {\r\n",
       "    vertical-align: top;\r\n",
       "    text-align: start;\r\n",
       "}\r\n",
       "details.dni-treeview {\r\n",
       "    padding-left: 1em;\r\n",
       "}\r\n",
       "table td {\r\n",
       "    text-align: start;\r\n",
       "}\r\n",
       "table tr { \r\n",
       "    vertical-align: top; \r\n",
       "    margin: 0em 0px;\r\n",
       "}\r\n",
       "table tr td pre \r\n",
       "{ \r\n",
       "    vertical-align: top !important; \r\n",
       "    margin: 0em 0px !important;\r\n",
       "} \r\n",
       "table th {\r\n",
       "    text-align: start;\r\n",
       "}\r\n",
       "</style>"
      ]
     },
     "metadata": {},
     "output_type": "display_data"
    }
   ],
   "source": [
    "\n",
    "var client = new HttpClient();\n",
    "var request = new HttpRequestMessage();\n",
    "request.RequestUri = new Uri(\"https://github.com/Kengxxiao/ArknightsGameData/tree-commit-info/master/zh_CN/gamedata/story/activities/act14side\");\n",
    "request.Method = HttpMethod.Get;\n",
    "request.Headers.Add(\"Accept\", \"application/json\");\n",
    "\n",
    "var response = await client.SendAsync(request);\n",
    "var content = await response.Content.ReadAsStringAsync();\n",
    "var result = JObject.Parse(content);\n",
    "var keys =\n",
    "    from tag in result.Properties()\n",
    "    let name = tag.Name\n",
    "    where name.EndsWith(\".txt\")\n",
    "    select name;\n",
    "var k = keys.ToList();\n",
    "k"
   ]
  },
  {
   "cell_type": "code",
   "execution_count": null,
   "metadata": {
    "dotnet_interactive": {
     "language": "csharp"
    },
    "polyglot_notebook": {
     "kernelName": "csharp"
    }
   },
   "outputs": [],
   "source": [
    "HtmlWeb activePage = new HtmlWeb();\n",
    "var htmlDoc = activePage.Load(\"https://prts.wiki/w/%E6%83%85%E6%8A%A5%E5%A4%84%E7%90%86%E5%AE%A4\");\n",
    "var node = htmlDoc.DocumentNode.SelectSingleNode($\"//table[@class=\\\"wikitable\\\"]//big[text()='登临意']\");"
   ]
  },
  {
   "cell_type": "code",
   "execution_count": null,
   "metadata": {
    "dotnet_interactive": {
     "language": "csharp"
    },
    "polyglot_notebook": {
     "kernelName": "csharp"
    }
   },
   "outputs": [],
   "source": [
    "var codeNodes = node.SelectNodes(@\"./ancestor::tr/following-sibling::tr/td/div/table/tbody/tr/td/span[2]/span/text()\");\n",
    "var preaftNodes = node.SelectNodes(@\"./ancestor::tr/following-sibling::tr/td//td[3]/span[1]/b/text()\");\n",
    "var stageNameNodes = node.SelectNodes(@\"./ancestor::tr/following-sibling::tr/td/div/table/tbody/tr/td/span[2]/text()\");"
   ]
  },
  {
   "cell_type": "code",
   "execution_count": null,
   "metadata": {
    "dotnet_interactive": {
     "language": "csharp"
    },
    "polyglot_notebook": {
     "kernelName": "csharp"
    }
   },
   "outputs": [],
   "source": [
    "var dict = new List<string>();\n",
    "Func<HtmlNode,string,string> Sort = (n,s)=>\n",
    "{\n",
    "    if (n.InnerHtml == \"行动前\") Console.WriteLine(n.InnerHtml);\n",
    "    if (n.InnerHtml == \"行动后\") Console.WriteLine(n.InnerHtml);\n",
    "    if (n.InnerHtml == \"幕间\") Console.WriteLine(n.InnerHtml);\n",
    "    dict.Add(s);\n",
    "    return \"0\";\n",
    "};\n",
    "for (int i = 0; i < codeNodes.Count; i++)\n",
    "{\n",
    "    var fullName = codeNodes[i].InnerText + \" \" +  stageNameNodes[i].InnerText + \" \" + preaftNodes[i].InnerHtml;\n",
    "\n",
    "    Sort(preaftNodes[i], fullName);\n",
    "}\n"
   ]
  },
  {
   "cell_type": "code",
   "execution_count": null,
   "metadata": {
    "dotnet_interactive": {
     "language": "csharp"
    },
    "polyglot_notebook": {
     "kernelName": "csharp"
    }
   },
   "outputs": [],
   "source": [
    "dict"
   ]
  }
 ],
 "metadata": {
  "kernelspec": {
   "display_name": ".NET (C#)",
   "language": "C#",
   "name": ".net-csharp"
  },
  "language_info": {
   "name": "polyglot-notebook"
  },
  "polyglot_notebook": {
   "kernelInfo": {
    "defaultKernelName": "csharp",
    "items": [
     {
      "aliases": [],
      "name": ".NET"
     },
     {
      "aliases": [
       "C#",
       "c#"
      ],
      "languageName": "C#",
      "name": "csharp"
     },
     {
      "aliases": [
       "F#",
       "f#"
      ],
      "languageName": "F#",
      "name": "fsharp"
     },
     {
      "aliases": [],
      "languageName": "HTML",
      "name": "html"
     },
     {
      "aliases": [
       "js"
      ],
      "languageName": "JavaScript",
      "name": "javascript"
     },
     {
      "aliases": [],
      "languageName": "KQL",
      "name": "kql"
     },
     {
      "aliases": [],
      "languageName": "Mermaid",
      "name": "mermaid"
     },
     {
      "aliases": [
       "powershell"
      ],
      "languageName": "PowerShell",
      "name": "pwsh"
     },
     {
      "aliases": [],
      "languageName": "SQL",
      "name": "sql"
     },
     {
      "aliases": [],
      "name": "value"
     },
     {
      "aliases": [
       "frontend"
      ],
      "name": "vscode"
     },
     {
      "aliases": [],
      "name": "webview"
     }
    ]
   }
  }
 },
 "nbformat": 4,
 "nbformat_minor": 2
}
