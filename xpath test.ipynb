{
 "cells": [
  {
   "cell_type": "code",
   "execution_count": null,
   "metadata": {
    "dotnet_interactive": {
     "language": "csharp"
    },
    "polyglot_notebook": {
     "kernelName": "csharp"
    }
   },
   "outputs": [],
   "source": [
    "#r \"nuget: HtmlAgilityPack\""
   ]
  },
  {
   "cell_type": "code",
   "execution_count": null,
   "metadata": {
    "dotnet_interactive": {
     "language": "csharp"
    },
    "polyglot_notebook": {
     "kernelName": "csharp"
    }
   },
   "outputs": [],
   "source": [
    "using HtmlAgilityPack;\n",
    "using System.Net.Http;\n",
    "\n"
   ]
  },
  {
   "cell_type": "code",
   "execution_count": null,
   "metadata": {
    "dotnet_interactive": {
     "language": "csharp"
    },
    "polyglot_notebook": {
     "kernelName": "csharp"
    }
   },
   "outputs": [],
   "source": [
    "HtmlWeb activePage = new HtmlWeb();\n",
    "var htmlDoc = activePage.Load(\"https://prts.wiki/w/%E6%83%85%E6%8A%A5%E5%A4%84%E7%90%86%E5%AE%A4\");\n",
    "var node = htmlDoc.DocumentNode.SelectSingleNode($\"//table[@class=\\\"wikitable\\\"]//big[text()='登临意']\");"
   ]
  },
  {
   "cell_type": "code",
   "execution_count": null,
   "metadata": {
    "dotnet_interactive": {
     "language": "csharp"
    },
    "polyglot_notebook": {
     "kernelName": "csharp"
    }
   },
   "outputs": [],
   "source": [
    "var codeNodes = node.SelectNodes(@\"./ancestor::tr/following-sibling::tr/td/div/table/tbody/tr/td/span[2]/span/text()\");\n",
    "var preaftNodes = node.SelectNodes(@\"./ancestor::tr/following-sibling::tr/td//td[3]/span[1]/b/text()\");\n",
    "var stageNameNodes = node.SelectNodes(@\"./ancestor::tr/following-sibling::tr/td/div/table/tbody/tr/td/span[2]/text()\");"
   ]
  },
  {
   "cell_type": "code",
   "execution_count": null,
   "metadata": {
    "dotnet_interactive": {
     "language": "csharp"
    },
    "polyglot_notebook": {
     "kernelName": "csharp"
    }
   },
   "outputs": [],
   "source": [
    "var dict = new List<string>();\n",
    "Func<HtmlNode,string,string> Sort = (n,s)=>\n",
    "{\n",
    "    if (n.InnerHtml == \"行动前\") Console.WriteLine(n.InnerHtml);\n",
    "    if (n.InnerHtml == \"行动后\") Console.WriteLine(n.InnerHtml);\n",
    "    if (n.InnerHtml == \"幕间\") Console.WriteLine(n.InnerHtml);\n",
    "    dict.Add(s);\n",
    "    return \"0\";\n",
    "};\n",
    "for (int i = 0; i < codeNodes.Count; i++)\n",
    "{\n",
    "    var fullName = codeNodes[i].InnerText + \" \" +  stageNameNodes[i].InnerText + \" \" + preaftNodes[i].InnerHtml;\n",
    "\n",
    "    Sort(preaftNodes[i], fullName);\n",
    "}\n"
   ]
  },
  {
   "cell_type": "code",
   "execution_count": null,
   "metadata": {
    "dotnet_interactive": {
     "language": "csharp"
    },
    "polyglot_notebook": {
     "kernelName": "csharp"
    }
   },
   "outputs": [],
   "source": [
    "dict"
   ]
  }
 ],
 "metadata": {
  "kernelspec": {
   "display_name": ".NET (C#)",
   "language": "C#",
   "name": ".net-csharp"
  },
  "polyglot_notebook": {
   "kernelInfo": {
    "defaultKernelName": "csharp",
    "items": [
     {
      "aliases": [
       "c#",
       "C#"
      ],
      "languageName": "C#",
      "name": "csharp"
     },
     {
      "aliases": [],
      "name": ".NET"
     },
     {
      "aliases": [
       "frontend"
      ],
      "name": "vscode"
     },
     {
      "aliases": [
       "f#",
       "F#"
      ],
      "languageName": "F#",
      "name": "fsharp"
     },
     {
      "aliases": [],
      "languageName": "HTML",
      "name": "html"
     },
     {
      "aliases": [
       "js"
      ],
      "languageName": "JavaScript",
      "name": "javascript"
     },
     {
      "aliases": [],
      "languageName": "KQL",
      "name": "kql"
     },
     {
      "aliases": [],
      "languageName": "Mermaid",
      "name": "mermaid"
     },
     {
      "aliases": [
       "powershell"
      ],
      "languageName": "PowerShell",
      "name": "pwsh"
     },
     {
      "aliases": [],
      "languageName": "SQL",
      "name": "sql"
     },
     {
      "aliases": [],
      "name": "value"
     },
     {
      "aliases": [],
      "name": "webview"
     }
    ]
   }
  }
 },
 "nbformat": 4,
 "nbformat_minor": 2
}
